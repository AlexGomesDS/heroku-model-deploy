{
 "cells": [
  {
   "cell_type": "code",
   "execution_count": 1,
   "metadata": {},
   "outputs": [
    {
     "name": "stdout",
     "output_type": "stream",
     "text": [
      "m_or_f,person_attributes,seat,other_person_location,other_factor_1,other_factor_2,other_factor_3,age_in_years\r",
      "\r\n",
      "m,driving,front_left,N/A,N/A,N/A,N/A,50\r",
      "\r\n",
      "m,on_bike,not_in_vehicle,in_unmarked_intersection,pedestrial_in_middle_of_street,N/A,N/A,42\r",
      "\r\n",
      "f,driving,front_left,N/A,N/A,N/A,N/A,42\r",
      "\r\n",
      "f,passenger,front_right,N/A,N/A,N/A,N/A,52\r",
      "\r\n",
      "m,driving,front_left,N/A,N/A,N/A,N/A,45\r",
      "\r\n",
      "m,on_foot,not_in_vehicle,in_intersection_legal,bad_crossing_or_intersection,N/A,N/A,41\r",
      "\r\n",
      "m,driving,front_left,N/A,N/A,N/A,N/A,43\r",
      "\r\n",
      "m,driving,front_left,N/A,N/A,N/A,N/A,53\r",
      "\r\n",
      "m,passenger,front_right,N/A,N/A,N/A,N/A,55\r",
      "\r\n"
     ]
    }
   ],
   "source": [
    "!head './data/X_train.csv'"
   ]
  },
  {
   "cell_type": "code",
   "execution_count": 2,
   "metadata": {},
   "outputs": [
    {
     "name": "stdout",
     "output_type": "stream",
     "text": [
      "0\r",
      "\r\n",
      "1\r",
      "\r\n",
      "1\r",
      "\r\n",
      "1\r",
      "\r\n",
      "0\r",
      "\r\n",
      "1\r",
      "\r\n",
      "1\r",
      "\r\n",
      "0\r",
      "\r\n",
      "1\r",
      "\r\n",
      "0\r",
      "\r\n"
     ]
    }
   ],
   "source": [
    "!head './data/y_train.csv'"
   ]
  },
  {
   "cell_type": "code",
   "execution_count": 3,
   "metadata": {},
   "outputs": [
    {
     "name": "stderr",
     "output_type": "stream",
     "text": [
      "/home/alex/miniconda3/envs/shell/lib/python3.6/importlib/_bootstrap.py:219: RuntimeWarning: numpy.dtype size changed, may indicate binary incompatibility. Expected 96, got 88\n",
      "  return f(*args, **kwds)\n"
     ]
    }
   ],
   "source": [
    "import numpy as np\n",
    "import pandas as pd"
   ]
  },
  {
   "cell_type": "code",
   "execution_count": 27,
   "metadata": {},
   "outputs": [
    {
     "name": "stdout",
     "output_type": "stream",
     "text": [
      "11173\n"
     ]
    },
    {
     "data": {
      "text/html": [
       "<div>\n",
       "<style scoped>\n",
       "    .dataframe tbody tr th:only-of-type {\n",
       "        vertical-align: middle;\n",
       "    }\n",
       "\n",
       "    .dataframe tbody tr th {\n",
       "        vertical-align: top;\n",
       "    }\n",
       "\n",
       "    .dataframe thead th {\n",
       "        text-align: right;\n",
       "    }\n",
       "</style>\n",
       "<table border=\"1\" class=\"dataframe\">\n",
       "  <thead>\n",
       "    <tr style=\"text-align: right;\">\n",
       "      <th></th>\n",
       "      <th>m_or_f</th>\n",
       "      <th>person_attributes</th>\n",
       "      <th>seat</th>\n",
       "      <th>other_person_location</th>\n",
       "      <th>other_factor_1</th>\n",
       "      <th>other_factor_2</th>\n",
       "      <th>other_factor_3</th>\n",
       "      <th>age_in_years</th>\n",
       "    </tr>\n",
       "  </thead>\n",
       "  <tbody>\n",
       "    <tr>\n",
       "      <th>0</th>\n",
       "      <td>m</td>\n",
       "      <td>driving</td>\n",
       "      <td>front_left</td>\n",
       "      <td>NaN</td>\n",
       "      <td>NaN</td>\n",
       "      <td>NaN</td>\n",
       "      <td>NaN</td>\n",
       "      <td>50</td>\n",
       "    </tr>\n",
       "    <tr>\n",
       "      <th>1</th>\n",
       "      <td>m</td>\n",
       "      <td>on_bike</td>\n",
       "      <td>not_in_vehicle</td>\n",
       "      <td>in_unmarked_intersection</td>\n",
       "      <td>pedestrial_in_middle_of_street</td>\n",
       "      <td>NaN</td>\n",
       "      <td>NaN</td>\n",
       "      <td>42</td>\n",
       "    </tr>\n",
       "    <tr>\n",
       "      <th>2</th>\n",
       "      <td>f</td>\n",
       "      <td>driving</td>\n",
       "      <td>front_left</td>\n",
       "      <td>NaN</td>\n",
       "      <td>NaN</td>\n",
       "      <td>NaN</td>\n",
       "      <td>NaN</td>\n",
       "      <td>42</td>\n",
       "    </tr>\n",
       "    <tr>\n",
       "      <th>3</th>\n",
       "      <td>f</td>\n",
       "      <td>passenger</td>\n",
       "      <td>front_right</td>\n",
       "      <td>NaN</td>\n",
       "      <td>NaN</td>\n",
       "      <td>NaN</td>\n",
       "      <td>NaN</td>\n",
       "      <td>52</td>\n",
       "    </tr>\n",
       "    <tr>\n",
       "      <th>4</th>\n",
       "      <td>m</td>\n",
       "      <td>driving</td>\n",
       "      <td>front_left</td>\n",
       "      <td>NaN</td>\n",
       "      <td>NaN</td>\n",
       "      <td>NaN</td>\n",
       "      <td>NaN</td>\n",
       "      <td>45</td>\n",
       "    </tr>\n",
       "  </tbody>\n",
       "</table>\n",
       "</div>"
      ],
      "text/plain": [
       "  m_or_f person_attributes            seat     other_person_location  \\\n",
       "0      m           driving      front_left                       NaN   \n",
       "1      m           on_bike  not_in_vehicle  in_unmarked_intersection   \n",
       "2      f           driving      front_left                       NaN   \n",
       "3      f         passenger     front_right                       NaN   \n",
       "4      m           driving      front_left                       NaN   \n",
       "\n",
       "                   other_factor_1 other_factor_2 other_factor_3  age_in_years  \n",
       "0                             NaN            NaN            NaN            50  \n",
       "1  pedestrial_in_middle_of_street            NaN            NaN            42  \n",
       "2                             NaN            NaN            NaN            42  \n",
       "3                             NaN            NaN            NaN            52  \n",
       "4                             NaN            NaN            NaN            45  "
      ]
     },
     "execution_count": 27,
     "metadata": {},
     "output_type": "execute_result"
    }
   ],
   "source": [
    "df_train = pd.read_csv('data/X_train.csv')\n",
    "df_train_y = pd.read_csv('data/y_train.csv',header=None)\n",
    "print(df_train.shape[0])\n",
    "df_train.head()"
   ]
  },
  {
   "cell_type": "code",
   "execution_count": 5,
   "metadata": {},
   "outputs": [
    {
     "data": {
      "text/html": [
       "<div>\n",
       "<style scoped>\n",
       "    .dataframe tbody tr th:only-of-type {\n",
       "        vertical-align: middle;\n",
       "    }\n",
       "\n",
       "    .dataframe tbody tr th {\n",
       "        vertical-align: top;\n",
       "    }\n",
       "\n",
       "    .dataframe thead th {\n",
       "        text-align: right;\n",
       "    }\n",
       "</style>\n",
       "<table border=\"1\" class=\"dataframe\">\n",
       "  <thead>\n",
       "    <tr style=\"text-align: right;\">\n",
       "      <th></th>\n",
       "      <th>age_in_years</th>\n",
       "    </tr>\n",
       "  </thead>\n",
       "  <tbody>\n",
       "    <tr>\n",
       "      <th>count</th>\n",
       "      <td>11173.000000</td>\n",
       "    </tr>\n",
       "    <tr>\n",
       "      <th>mean</th>\n",
       "      <td>46.673409</td>\n",
       "    </tr>\n",
       "    <tr>\n",
       "      <th>std</th>\n",
       "      <td>4.552841</td>\n",
       "    </tr>\n",
       "    <tr>\n",
       "      <th>min</th>\n",
       "      <td>40.000000</td>\n",
       "    </tr>\n",
       "    <tr>\n",
       "      <th>25%</th>\n",
       "      <td>43.000000</td>\n",
       "    </tr>\n",
       "    <tr>\n",
       "      <th>50%</th>\n",
       "      <td>46.000000</td>\n",
       "    </tr>\n",
       "    <tr>\n",
       "      <th>75%</th>\n",
       "      <td>51.000000</td>\n",
       "    </tr>\n",
       "    <tr>\n",
       "      <th>max</th>\n",
       "      <td>55.000000</td>\n",
       "    </tr>\n",
       "  </tbody>\n",
       "</table>\n",
       "</div>"
      ],
      "text/plain": [
       "       age_in_years\n",
       "count  11173.000000\n",
       "mean      46.673409\n",
       "std        4.552841\n",
       "min       40.000000\n",
       "25%       43.000000\n",
       "50%       46.000000\n",
       "75%       51.000000\n",
       "max       55.000000"
      ]
     },
     "execution_count": 5,
     "metadata": {},
     "output_type": "execute_result"
    }
   ],
   "source": [
    "df_train.describe()"
   ]
  },
  {
   "cell_type": "code",
   "execution_count": 6,
   "metadata": {},
   "outputs": [
    {
     "data": {
      "text/plain": [
       "m_or_f                       1\n",
       "person_attributes            0\n",
       "seat                         0\n",
       "other_person_location     9869\n",
       "other_factor_1           10248\n",
       "other_factor_2           10839\n",
       "other_factor_3           11067\n",
       "age_in_years                 0\n",
       "dtype: int64"
      ]
     },
     "execution_count": 6,
     "metadata": {},
     "output_type": "execute_result"
    }
   ],
   "source": [
    "df_train.isna().sum()"
   ]
  },
  {
   "cell_type": "code",
   "execution_count": 14,
   "metadata": {},
   "outputs": [
    {
     "name": "stdout",
     "output_type": "stream",
     "text": [
      "\n",
      " m_or_f\n",
      "m    8202\n",
      "f    2970\n",
      "Name: m_or_f, dtype: int64\n",
      "\n",
      " person_attributes\n",
      "driving                          8501\n",
      "passenger                        1362\n",
      "on_foot                          1084\n",
      "on_bike                           178\n",
      "in_stopped_vehicle                 23\n",
      "other_on_foot                      12\n",
      "unknown_in_other_vehicle_type       7\n",
      "unknown_in_vehicle                  6\n",
      "Name: person_attributes, dtype: int64\n",
      "\n",
      " seat\n",
      "front_left                   8501\n",
      "not_in_vehicle               1304\n",
      "front_right                  1169\n",
      "second_middle                  43\n",
      "front_middle                   36\n",
      "cargo_area                     34\n",
      "truck_cab_sleeper_area         23\n",
      "cargo_open_area                20\n",
      "riding_outside_of_vehicle      15\n",
      "front_unknown                   6\n",
      "third_right                     5\n",
      "second_other                    5\n",
      "middle_third                    3\n",
      "third_unknown                   2\n",
      "in_trailer                      2\n",
      "cargo_area_unknown              2\n",
      "second_unknown                  2\n",
      "fourth_right                    1\n",
      "Name: seat, dtype: int64\n",
      "\n",
      " other_person_location\n",
      "in_unmarked_intersection          537\n",
      "middle_of_road_unknown            203\n",
      "middle_of_road                    152\n",
      "in_intersection_legal              88\n",
      "roadside_not_intersection          80\n",
      "on_roadway_intersection            61\n",
      "in_intersection_possible_xwalk     60\n",
      "not_intersection_not_road          38\n",
      "in_intersection_no_xwalk           28\n",
      "not_intersection_no_highway        15\n",
      "unknown                            14\n",
      "not_highway_in_intersection        10\n",
      "intersection_unknown                7\n",
      "not_known_not_intersection          5\n",
      "xwalk_non_intersection              5\n",
      "parking_lane_not_intersection       1\n",
      "Name: other_person_location, dtype: int64\n",
      "\n",
      " other_factor_1\n",
      "pedestrial_in_middle_of_street        279\n",
      "bad_crossing_or_intersection          266\n",
      "ran_into_road                         102\n",
      "not_visible                            95\n",
      "failure_to_yield                       66\n",
      "N/A or Unknown                         28\n",
      "traffic_law_broken                     16\n",
      "on_cellphone                           14\n",
      "roadside_worker                         8\n",
      "was_tickling_driver                     6\n",
      "boarding_or_exiting_moving_vehicle      6\n",
      "swerved_out_of_lane                     5\n",
      "unconscious_or_too_krunk                4\n",
      "traveling_on_closed_road                4\n",
      "recent_depression                       4\n",
      "physically_pushing_vehicle              3\n",
      "open_door_while_moving                  3\n",
      "ped_non_vehicle_operator                3\n",
      "physical_impairment                     2\n",
      "uses_wheelchair                         2\n",
      "mother_child_not_survived               1\n",
      "erratic_lane_change                     1\n",
      "alighting_non_moving_vehicle            1\n",
      "was_doing_tide_challenge                1\n",
      "using_cane                              1\n",
      "sightless_or_blind                      1\n",
      "missing_legally_required_equipment      1\n",
      "in_wheelchair                           1\n",
      "failure_turn_lights_on                  1\n",
      "Name: other_factor_1, dtype: int64\n",
      "\n",
      " other_factor_2\n",
      "failure_to_yield                      90\n",
      "bad_crossing_or_intersection          65\n",
      "pedestrial_in_middle_of_street        54\n",
      "N/A or Unknown                        28\n",
      "ran_into_road                         16\n",
      "not_visible                           13\n",
      "traffic_law_broken                    12\n",
      "on_cellphone                          10\n",
      "missing_legally_required_equipment     7\n",
      "unconscious_or_too_krunk               7\n",
      "has_previous_injury                    3\n",
      "recent_depression                      3\n",
      "physical_impairment                    2\n",
      "making_illegal_turn                    2\n",
      "motor_vehicle                          2\n",
      "wearing_functional_head_restraints     2\n",
      "traveling_on_closed_road               2\n",
      "boarding_or_exiting_moving_vehicle     2\n",
      "swerved_out_of_lane                    2\n",
      "failure_turn_lights_on                 2\n",
      "erratic_lane_change                    1\n",
      "mentally_handicapped                   1\n",
      "roadside_worker                        1\n",
      "alighting_non_moving_vehicle           1\n",
      "heavy_roadside_vegetation              1\n",
      "sightless_or_blind                     1\n",
      "in_wheelchair                          1\n",
      "in_street                              1\n",
      "open_door_while_moving                 1\n",
      "curved_hill                            1\n",
      "Name: other_factor_2, dtype: int64\n",
      "\n",
      " other_factor_3\n",
      "N/A or Unknown                            28\n",
      "failure_to_yield                          25\n",
      "not_visible                               12\n",
      "on_cellphone                               7\n",
      "traveling_on_closed_road                   5\n",
      "adverse_weather                            4\n",
      "traffic_law_broken                         4\n",
      "pedestrial_in_middle_of_street             3\n",
      "bad_crossing_or_intersection               3\n",
      "swerved_out_of_lane                        2\n",
      "speeding                                   2\n",
      "has_previous_injury                        2\n",
      "roadside_structure_construction_worker     1\n",
      "ped_non_vehicle_operator                   1\n",
      "making_illegal_turn                        1\n",
      "sightless_or_blind                         1\n",
      "missing_legally_required_equipment         1\n",
      "driving_incorrect_side_of_road             1\n",
      "in_wheelchair                              1\n",
      "physical_impairment                        1\n",
      "unconscious_or_too_krunk                   1\n",
      "Name: other_factor_3, dtype: int64\n",
      "\n",
      " age_in_years\n",
      "40    902\n",
      "42    873\n",
      "41    851\n",
      "44    835\n",
      "45    820\n",
      "43    813\n",
      "46    726\n",
      "48    670\n",
      "49    657\n",
      "47    651\n",
      "54    618\n",
      "51    600\n",
      "52    592\n",
      "50    565\n",
      "53    553\n",
      "55    447\n",
      "Name: age_in_years, dtype: int64\n"
     ]
    }
   ],
   "source": [
    "for col in df_train.columns:\n",
    "    print(\"\\n\",col)\n",
    "    print(df_train[col].value_counts())"
   ]
  },
  {
   "cell_type": "code",
   "execution_count": 16,
   "metadata": {},
   "outputs": [],
   "source": [
    "import pickle\n",
    "import json\n",
    "import pandas as pd\n",
    "# this category_encoders package is not part of the\n",
    "# sklearn core packages, it is a 3rd party but makes\n",
    "# our lives a lot easier because it can deal with encoding\n",
    "# strings whereas sklearn's OneHotEncoder cannot\n",
    "import category_encoders\n",
    "from sklearn.preprocessing import Imputer, FunctionTransformer, OneHotEncoder\n",
    "from sklearn.pipeline import make_pipeline\n",
    "from sklearn.linear_model import LogisticRegression"
   ]
  },
  {
   "cell_type": "code",
   "execution_count": 28,
   "metadata": {},
   "outputs": [
    {
     "name": "stderr",
     "output_type": "stream",
     "text": [
      "/home/alex/miniconda3/envs/shell/lib/python3.6/site-packages/sklearn/utils/validation.py:578: DataConversionWarning: A column-vector y was passed when a 1d array was expected. Please change the shape of y to (n_samples, ), for example using ravel().\n",
      "  y = column_or_1d(y, warn=True)\n"
     ]
    },
    {
     "data": {
      "text/plain": [
       "Pipeline(memory=None,\n",
       "     steps=[('onehotencoder', OneHotEncoder(cols=['m_or_f', 'person_attributes', 'seat', 'other_person_location', 'other_factor_1', 'other_factor_2', 'other_factor_3'],\n",
       "       drop_invariant=False, handle_unknown='impute', impute_missing=True,\n",
       "       return_df=True, verbose=0)), ('imputer', Imputer(axis=...ty='l2', random_state=None, solver='liblinear', tol=0.0001,\n",
       "          verbose=0, warm_start=False))])"
      ]
     },
     "execution_count": 28,
     "metadata": {},
     "output_type": "execute_result"
    }
   ],
   "source": [
    "pipeline = make_pipeline(\n",
    "    category_encoders.OneHotEncoder(handle_unknown='impute'),\n",
    "    Imputer(strategy='mean'),\n",
    "    LogisticRegression(),\n",
    ")\n",
    "pipeline.fit(df_train, df_train_y)"
   ]
  },
  {
   "cell_type": "code",
   "execution_count": 32,
   "metadata": {},
   "outputs": [
    {
     "data": {
      "text/plain": [
       "{'m_or_f': 'm',\n",
       " 'person_attributes': 'driving',\n",
       " 'seat': 'front_left',\n",
       " 'other_person_location': nan,\n",
       " 'other_factor_1': nan,\n",
       " 'other_factor_2': nan,\n",
       " 'other_factor_3': nan,\n",
       " 'age_in_years': 44}"
      ]
     },
     "execution_count": 32,
     "metadata": {},
     "output_type": "execute_result"
    }
   ],
   "source": [
    "df_train.iloc[23].to_dict()"
   ]
  },
  {
   "cell_type": "code",
   "execution_count": 42,
   "metadata": {},
   "outputs": [],
   "source": [
    "new_obs_str = '{\"m_or_f\": \"m\", \"person_attributes\": \"driving\", \"seat\": \"front_left\", \"other_person_location\":null, \"other_factor_1\":null, \"other_factor_2\":null , \"other_factor_3\":null , \"age_in_years\": 44}'"
   ]
  },
  {
   "cell_type": "code",
   "execution_count": 43,
   "metadata": {},
   "outputs": [],
   "source": [
    "new_obs_dict = json.loads(new_obs_str)"
   ]
  },
  {
   "cell_type": "code",
   "execution_count": null,
   "metadata": {},
   "outputs": [],
   "source": [
    "new_obs_dict"
   ]
  },
  {
   "cell_type": "code",
   "execution_count": 52,
   "metadata": {},
   "outputs": [
    {
     "data": {
      "text/plain": [
       "array([[0.40257301, 0.59742699]])"
      ]
     },
     "execution_count": 52,
     "metadata": {},
     "output_type": "execute_result"
    }
   ],
   "source": [
    "obs = pd.DataFrame([new_obs_dict], columns = df_train.columns)\n",
    "obs = obs.astype(df_train.dtypes)\n",
    "\n",
    "pipeline.predict_proba(obs)"
   ]
  },
  {
   "cell_type": "markdown",
   "metadata": {},
   "source": [
    "# Serialization"
   ]
  },
  {
   "cell_type": "code",
   "execution_count": 56,
   "metadata": {},
   "outputs": [
    {
     "data": {
      "text/plain": [
       "['pipeline.pickle']"
      ]
     },
     "execution_count": 56,
     "metadata": {},
     "output_type": "execute_result"
    }
   ],
   "source": [
    "with open('columns.json', 'w') as fh:\n",
    "    json.dump(df_train.columns.tolist(), fh)\n",
    "    \n",
    "with open('dtypes.pickle', 'wb') as fh:\n",
    "    pickle.dump(df_train.dtypes, fh)\n",
    "    \n",
    "from sklearn.externals import joblib\n",
    "joblib.dump(pipeline, 'pipeline.pickle') "
   ]
  },
  {
   "cell_type": "code",
   "execution_count": null,
   "metadata": {},
   "outputs": [],
   "source": []
  }
 ],
 "metadata": {
  "kernelspec": {
   "display_name": "ldsa",
   "language": "python",
   "name": "shell"
  },
  "language_info": {
   "codemirror_mode": {
    "name": "ipython",
    "version": 3
   },
   "file_extension": ".py",
   "mimetype": "text/x-python",
   "name": "python",
   "nbconvert_exporter": "python",
   "pygments_lexer": "ipython3",
   "version": "3.6.6"
  }
 },
 "nbformat": 4,
 "nbformat_minor": 2
}
