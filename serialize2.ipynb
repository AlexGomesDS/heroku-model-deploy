{
 "cells": [
  {
   "cell_type": "code",
   "execution_count": 159,
   "metadata": {},
   "outputs": [
    {
     "name": "stderr",
     "output_type": "stream",
     "text": [
      "/home/alex/miniconda3/envs/shell/lib/python3.6/site-packages/sklearn/ensemble/weight_boosting.py:29: DeprecationWarning: numpy.core.umath_tests is an internal NumPy module and should not be imported. It will be removed in a future NumPy release.\n",
      "  from numpy.core.umath_tests import inner1d\n"
     ]
    }
   ],
   "source": [
    "import pickle\n",
    "import json\n",
    "import pandas as pd\n",
    "import numpy as np\n",
    "from sklearn.externals import joblib\n",
    "from sklearn.base import BaseEstimator, TransformerMixin\n",
    "import category_encoders\n",
    "from sklearn.pipeline import make_pipeline\n",
    "from sklearn.preprocessing import Imputer, FunctionTransformer\n",
    "\n",
    "from sklearn.linear_model import LogisticRegression\n",
    "from sklearn.tree import DecisionTreeClassifier\n",
    "from sklearn.ensemble import RandomForestClassifier\n",
    "from sklearn.naive_bayes import GaussianNB\n",
    "from sklearn.linear_model import LogisticRegression"
   ]
  },
  {
   "cell_type": "code",
   "execution_count": 2,
   "metadata": {},
   "outputs": [],
   "source": [
    "pipeline = joblib.load('pipeline.pickle')\n",
    "with open('dtypes.pickle', 'rb') as fh:\n",
    "    dtypes = pickle.load(fh)\n",
    "\n",
    "with open('columns.json', 'r') as fh:\n",
    "    columns = json.load(fh)"
   ]
  },
  {
   "cell_type": "markdown",
   "metadata": {},
   "source": [
    "# Build pipeline"
   ]
  },
  {
   "cell_type": "code",
   "execution_count": 3,
   "metadata": {},
   "outputs": [
    {
     "name": "stdout",
     "output_type": "stream",
     "text": [
      "/mnt/c/Users/Alexandre/Google Drive/Documents/LDSSA/heroku-model-deploy\r\n"
     ]
    }
   ],
   "source": [
    "!pwd"
   ]
  },
  {
   "cell_type": "code",
   "execution_count": 153,
   "metadata": {},
   "outputs": [],
   "source": [
    "df_x = pd.read_csv('../batch2-capstone/data/X_train.csv')\n",
    "df_x[\"age_in_years\"] = df_x[\"age_in_years\"].astype(np.float)\n",
    "\n",
    "y = np.genfromtxt('../batch2-capstone/data/y_train.csv')"
   ]
  },
  {
   "cell_type": "code",
   "execution_count": 154,
   "metadata": {},
   "outputs": [],
   "source": [
    "class DataCleaner(BaseEstimator, TransformerMixin):\n",
    "\n",
    "    def __init__(self, n_min=30):\n",
    "        self.other_factors_cols=[\"other_factor_1\",\n",
    "                     \"other_factor_2\",\n",
    "                     \"other_factor_3\"]\n",
    "        self.n_min = n_min\n",
    "        \n",
    "    def transform(self, X):\n",
    "        df_other_factors = X[self.other_factors_cols].copy().fillna(\"N/A or Unknown\")\n",
    "        \n",
    "        ohe = np.zeros([X.shape[0], len(self.factors)])\n",
    "        for key, row in X.iterrows():\n",
    "            for el in row:\n",
    "                if el in self.factors:\n",
    "                    ohe[key][self.factors.index(el)] = 1\n",
    "                \n",
    "        df_factors_ohe = pd.DataFrame(ohe, columns = self.factors, dtype=np.int32)\n",
    "        \n",
    "        df_X_clean = pd.concat([X, df_factors_ohe],axis=1).drop(columns = self.other_factors_cols)\n",
    "\n",
    "        # convert all columns to int\n",
    "        df_X_clean[\"male\"] = df_X_clean[\"m_or_f\"].apply(self.convert_m_or_f)\n",
    "        \n",
    "        #m_or_f was ambiguous, NaNs are unnecessary\n",
    "        df_X_clean = df_X_clean.drop(columns=[\"m_or_f\",\"N/A or Unknown\"])\n",
    "\n",
    "        df_X_clean = self.enc.transform(df_X_clean)\n",
    "\n",
    "        # drop features that only appeared n_min or less times in the trainning set\n",
    "        X_transformed = df_X_clean[self.usable_cols].copy()\n",
    "        \n",
    "        return X_transformed\n",
    "\n",
    "    def fit(self, df_x, y):\n",
    "        df_other_factors = df_x[self.other_factors_cols].copy().fillna(\"N/A or Unknown\")\n",
    "        \n",
    "        # list of possible factors\n",
    "        self.factors = list(np.unique(df_other_factors.values))\n",
    "        \n",
    "        ohe = np.zeros([df_x.shape[0], len(self.factors)])\n",
    "        for key, row in df_other_factors.iterrows():\n",
    "            for el in row:\n",
    "                ohe[key][self.factors.index(el)] = 1\n",
    "\n",
    "        df_factors_ohe = pd.DataFrame(ohe, columns = self.factors, dtype=np.int32)\n",
    "        # drop factors with few observations\n",
    "        self.factors = list(df_factors_ohe.columns[(df_factors_ohe.sum()>self.n_min)].values)\n",
    "        df_factors_ohe = df_factors_ohe[self.factors]\n",
    "\n",
    "        df_X_clean = pd.concat([df_x, df_factors_ohe],axis=1).drop(columns = self.other_factors_cols)\n",
    "\n",
    "        # convert all columns to int\n",
    "        df_X_clean[\"male\"] = df_X_clean[\"m_or_f\"].apply(self.convert_m_or_f)\n",
    "        \n",
    "        #m_or_f was ambiguous\n",
    "        df_X_clean = df_X_clean.drop(columns=[\"m_or_f\",\"N/A or Unknown\"])\n",
    "        self.enc = category_encoders.one_hot.OneHotEncoder(handle_unknown='ignore')\n",
    "        df_X_clean = self.enc.fit_transform(df_X_clean)\n",
    "        \n",
    "        # drop features that only appear 3 or less times\n",
    "        self.usable_cols = df_X_clean.columns[df_X_clean.sum()>self.n_min].values\n",
    "        self.X_train = df_X_clean[self.usable_cols].copy()\n",
    "        self.y_train = y.copy()\n",
    "        return self\n",
    "    \n",
    "    def convert_m_or_f(self, val):\n",
    "        if val == 'm':\n",
    "            return 1\n",
    "        elif val == 'f':\n",
    "            return 0\n",
    "        else:\n",
    "            return np.nan\n"
   ]
  },
  {
   "cell_type": "code",
   "execution_count": 155,
   "metadata": {},
   "outputs": [],
   "source": [
    "cleaner = DataCleaner(50).fit(df_x,y)"
   ]
  },
  {
   "cell_type": "code",
   "execution_count": 156,
   "metadata": {},
   "outputs": [],
   "source": [
    "asd=pd.DataFrame.from_dict(\n",
    "{'m_or_f': [np.nan],\n",
    " 'person_attributes': [np.nan],\n",
    " 'seat': ['front_left'],\n",
    " 'other_person_location': [np.nan],\n",
    " 'other_factor_1': [np.nan],\n",
    " 'other_factor_2': [np.nan],\n",
    " 'other_factor_3': [np.nan],\n",
    " 'age_in_years': [np.nan]}).astype(df_x.dtypes)"
   ]
  },
  {
   "cell_type": "markdown",
   "metadata": {},
   "source": [
    "## Overall pipeline"
   ]
  },
  {
   "cell_type": "code",
   "execution_count": 161,
   "metadata": {},
   "outputs": [],
   "source": [
    "best_forest_parameters = {'bootstrap': True,\n",
    " 'class_weight': None,\n",
    " 'criterion': 'gini',\n",
    " 'max_depth': 9,\n",
    " 'max_features': 'auto',\n",
    " 'max_leaf_nodes': None,\n",
    " 'min_impurity_decrease': 0.0,\n",
    " 'min_impurity_split': None,\n",
    " 'min_samples_leaf': 1,\n",
    " 'min_samples_split': 10,\n",
    " 'min_weight_fraction_leaf': 0.0,\n",
    " 'n_estimators': 9,\n",
    " 'n_jobs': 1,\n",
    " 'oob_score': False,\n",
    " 'random_state': 42,\n",
    " 'verbose': 0,\n",
    " 'warm_start': False}\n",
    "\n",
    "\n",
    "best_forest = RandomForestClassifier(**best_forest_parameters)"
   ]
  },
  {
   "cell_type": "code",
   "execution_count": 162,
   "metadata": {},
   "outputs": [
    {
     "data": {
      "text/plain": [
       "Pipeline(memory=None,\n",
       "     steps=[('datacleaner', DataCleaner(n_min=30)), ('imputer', Imputer(axis=0, copy=True, missing_values='NaN', strategy='mean', verbose=0)), ('randomforestclassifier', RandomForestClassifier(bootstrap=True, class_weight=None, criterion='gini',\n",
       "            max_depth=9, max_features='auto', max_leaf_node...estimators=9, n_jobs=1,\n",
       "            oob_score=False, random_state=42, verbose=0, warm_start=False))])"
      ]
     },
     "execution_count": 162,
     "metadata": {},
     "output_type": "execute_result"
    }
   ],
   "source": [
    "pipeline = make_pipeline(\n",
    "    DataCleaner(30),\n",
    "    Imputer(strategy='mean'),\n",
    "    RandomForestClassifier(**best_forest_parameters)\n",
    ")\n",
    "pipeline.fit(df_x, y)"
   ]
  },
  {
   "cell_type": "code",
   "execution_count": 164,
   "metadata": {},
   "outputs": [
    {
     "name": "stdout",
     "output_type": "stream",
     "text": [
      "550 ms ± 36.2 ms per loop (mean ± std. dev. of 7 runs, 1 loop each)\n"
     ]
    }
   ],
   "source": [
    "%timeit pipeline.predict_proba(asd)"
   ]
  },
  {
   "cell_type": "code",
   "execution_count": 166,
   "metadata": {},
   "outputs": [
    {
     "data": {
      "text/plain": [
       "0.36411787800816947"
      ]
     },
     "execution_count": 166,
     "metadata": {},
     "output_type": "execute_result"
    }
   ],
   "source": [
    "pipeline.predict_proba(asd)[0,1]"
   ]
  },
  {
   "cell_type": "markdown",
   "metadata": {},
   "source": [
    "## Serialize!!"
   ]
  },
  {
   "cell_type": "code",
   "execution_count": 168,
   "metadata": {},
   "outputs": [],
   "source": [
    "#column names\n",
    "with open('columns.json', 'w') as fh:\n",
    "    json.dump(df_x.columns.tolist(), fh)"
   ]
  },
  {
   "cell_type": "code",
   "execution_count": 169,
   "metadata": {},
   "outputs": [],
   "source": [
    "#column types (don't forget to convert first age to np.float because int can't be nan)\n",
    "with open('dtypes.pickle', 'wb') as fh:\n",
    "    pickle.dump(df_x.dtypes, fh)"
   ]
  },
  {
   "cell_type": "code",
   "execution_count": 170,
   "metadata": {},
   "outputs": [
    {
     "data": {
      "text/plain": [
       "['pipeline.pickle']"
      ]
     },
     "execution_count": 170,
     "metadata": {},
     "output_type": "execute_result"
    }
   ],
   "source": [
    "from sklearn.externals import joblib\n",
    "joblib.dump(pipeline, 'pipeline.pickle') "
   ]
  },
  {
   "cell_type": "code",
   "execution_count": 174,
   "metadata": {},
   "outputs": [
    {
     "data": {
      "text/plain": [
       "'__main__'"
      ]
     },
     "execution_count": 174,
     "metadata": {},
     "output_type": "execute_result"
    }
   ],
   "source": [
    "__name__"
   ]
  }
 ],
 "metadata": {
  "kernelspec": {
   "display_name": "ldsa",
   "language": "python",
   "name": "shell"
  },
  "language_info": {
   "codemirror_mode": {
    "name": "ipython",
    "version": 3
   },
   "file_extension": ".py",
   "mimetype": "text/x-python",
   "name": "python",
   "nbconvert_exporter": "python",
   "pygments_lexer": "ipython3",
   "version": "3.6.6"
  }
 },
 "nbformat": 4,
 "nbformat_minor": 2
}
