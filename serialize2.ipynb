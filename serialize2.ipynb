{
 "cells": [
  {
   "cell_type": "code",
   "execution_count": 1,
   "metadata": {},
   "outputs": [
    {
     "name": "stderr",
     "output_type": "stream",
     "text": [
      "/home/alex/miniconda3/envs/shell/lib/python3.6/importlib/_bootstrap.py:219: RuntimeWarning: numpy.dtype size changed, may indicate binary incompatibility. Expected 96, got 88\n",
      "  return f(*args, **kwds)\n",
      "/home/alex/miniconda3/envs/shell/lib/python3.6/site-packages/sklearn/ensemble/weight_boosting.py:29: DeprecationWarning: numpy.core.umath_tests is an internal NumPy module and should not be imported. It will be removed in a future NumPy release.\n",
      "  from numpy.core.umath_tests import inner1d\n"
     ]
    }
   ],
   "source": [
    "import pickle\n",
    "import json\n",
    "import pandas as pd\n",
    "import numpy as np\n",
    "from sklearn.externals import joblib\n",
    "from sklearn.base import BaseEstimator, TransformerMixin\n",
    "import category_encoders\n",
    "from sklearn.pipeline import make_pipeline\n",
    "from sklearn.preprocessing import Imputer, FunctionTransformer\n",
    "\n",
    "from sklearn.linear_model import LogisticRegression\n",
    "from sklearn.tree import DecisionTreeClassifier\n",
    "from sklearn.ensemble import RandomForestClassifier\n",
    "from sklearn.naive_bayes import GaussianNB\n",
    "from sklearn.linear_model import LogisticRegression\n",
    "\n",
    "from utils import DataCleaner"
   ]
  },
  {
   "cell_type": "code",
   "execution_count": 2,
   "metadata": {},
   "outputs": [],
   "source": [
    "pipeline = joblib.load('pipeline.pickle')\n",
    "with open('dtypes.pickle', 'rb') as fh:\n",
    "    dtypes = pickle.load(fh)\n",
    "\n",
    "with open('columns.json', 'r') as fh:\n",
    "    columns = json.load(fh)"
   ]
  },
  {
   "cell_type": "markdown",
   "metadata": {},
   "source": [
    "# Build pipeline"
   ]
  },
  {
   "cell_type": "code",
   "execution_count": 3,
   "metadata": {},
   "outputs": [
    {
     "name": "stdout",
     "output_type": "stream",
     "text": [
      "/mnt/c/Users/Alexandre/Google Drive/Documents/LDSSA/heroku-model-deploy\r\n"
     ]
    }
   ],
   "source": [
    "!pwd"
   ]
  },
  {
   "cell_type": "code",
   "execution_count": 4,
   "metadata": {},
   "outputs": [],
   "source": [
    "df_x = pd.read_csv('../batch2-capstone/data/X_train.csv')\n",
    "df_x[\"age_in_years\"] = df_x[\"age_in_years\"].astype(np.float)\n",
    "\n",
    "y = np.genfromtxt('../batch2-capstone/data/y_train.csv')"
   ]
  },
  {
   "cell_type": "code",
   "execution_count": 5,
   "metadata": {},
   "outputs": [],
   "source": [
    "cleaner = DataCleaner(50).fit(df_x,y)"
   ]
  },
  {
   "cell_type": "code",
   "execution_count": 6,
   "metadata": {},
   "outputs": [],
   "source": [
    "asd=pd.DataFrame.from_dict(\n",
    "{'m_or_f': [np.nan],\n",
    " 'person_attributes': [np.nan],\n",
    " 'seat': ['front_left'],\n",
    " 'other_person_location': [np.nan],\n",
    " 'other_factor_1': [np.nan],\n",
    " 'other_factor_2': [np.nan],\n",
    " 'other_factor_3': [np.nan],\n",
    " 'age_in_years': [np.nan]}).astype(df_x.dtypes)"
   ]
  },
  {
   "cell_type": "markdown",
   "metadata": {},
   "source": [
    "## Overall pipeline"
   ]
  },
  {
   "cell_type": "code",
   "execution_count": 7,
   "metadata": {},
   "outputs": [],
   "source": [
    "best_forest_parameters = {'bootstrap': True,\n",
    " 'class_weight': None,\n",
    " 'criterion': 'gini',\n",
    " 'max_depth': 9,\n",
    " 'max_features': 'auto',\n",
    " 'max_leaf_nodes': None,\n",
    " 'min_impurity_decrease': 0.0,\n",
    " 'min_impurity_split': None,\n",
    " 'min_samples_leaf': 1,\n",
    " 'min_samples_split': 10,\n",
    " 'min_weight_fraction_leaf': 0.0,\n",
    " 'n_estimators': 9,\n",
    " 'n_jobs': 1,\n",
    " 'oob_score': False,\n",
    " 'random_state': 42,\n",
    " 'verbose': 0,\n",
    " 'warm_start': False}\n",
    "\n",
    "\n",
    "best_forest = RandomForestClassifier(**best_forest_parameters)"
   ]
  },
  {
   "cell_type": "code",
   "execution_count": 8,
   "metadata": {},
   "outputs": [
    {
     "data": {
      "text/plain": [
       "Pipeline(memory=None,\n",
       "     steps=[('datacleaner', DataCleaner(n_min=30)), ('imputer', Imputer(axis=0, copy=True, missing_values='NaN', strategy='mean', verbose=0)), ('randomforestclassifier', RandomForestClassifier(bootstrap=True, class_weight=None, criterion='gini',\n",
       "            max_depth=9, max_features='auto', max_leaf_node...estimators=9, n_jobs=1,\n",
       "            oob_score=False, random_state=42, verbose=0, warm_start=False))])"
      ]
     },
     "execution_count": 8,
     "metadata": {},
     "output_type": "execute_result"
    }
   ],
   "source": [
    "pipeline = make_pipeline(\n",
    "    DataCleaner(30),\n",
    "    Imputer(strategy='mean'),\n",
    "    RandomForestClassifier(**best_forest_parameters)\n",
    ")\n",
    "pipeline.fit(df_x, y)"
   ]
  },
  {
   "cell_type": "code",
   "execution_count": 9,
   "metadata": {},
   "outputs": [
    {
     "name": "stdout",
     "output_type": "stream",
     "text": [
      "161 ms ± 15.1 ms per loop (mean ± std. dev. of 7 runs, 1 loop each)\n"
     ]
    }
   ],
   "source": [
    "%timeit pipeline.predict_proba(asd)"
   ]
  },
  {
   "cell_type": "code",
   "execution_count": 10,
   "metadata": {},
   "outputs": [
    {
     "data": {
      "text/plain": [
       "0.36411787800816947"
      ]
     },
     "execution_count": 10,
     "metadata": {},
     "output_type": "execute_result"
    }
   ],
   "source": [
    "pipeline.predict_proba(asd)[0,1]"
   ]
  },
  {
   "cell_type": "markdown",
   "metadata": {},
   "source": [
    "## Serialize!!"
   ]
  },
  {
   "cell_type": "code",
   "execution_count": 11,
   "metadata": {},
   "outputs": [],
   "source": [
    "#column names\n",
    "with open('columns.json', 'w') as fh:\n",
    "    json.dump(df_x.columns.tolist(), fh)"
   ]
  },
  {
   "cell_type": "code",
   "execution_count": 12,
   "metadata": {},
   "outputs": [],
   "source": [
    "#column types (don't forget to convert first age to np.float because int can't be nan)\n",
    "with open('dtypes.pickle', 'wb') as fh:\n",
    "    pickle.dump(df_x.dtypes, fh)"
   ]
  },
  {
   "cell_type": "code",
   "execution_count": 13,
   "metadata": {},
   "outputs": [
    {
     "data": {
      "text/plain": [
       "['pipeline.pickle']"
      ]
     },
     "execution_count": 13,
     "metadata": {},
     "output_type": "execute_result"
    }
   ],
   "source": [
    "from sklearn.externals import joblib\n",
    "joblib.dump(pipeline, 'pipeline.pickle') "
   ]
  },
  {
   "cell_type": "code",
   "execution_count": 14,
   "metadata": {},
   "outputs": [
    {
     "data": {
      "text/plain": [
       "'__main__'"
      ]
     },
     "execution_count": 14,
     "metadata": {},
     "output_type": "execute_result"
    }
   ],
   "source": [
    "__name__"
   ]
  },
  {
   "cell_type": "code",
   "execution_count": 15,
   "metadata": {},
   "outputs": [
    {
     "name": "stdout",
     "output_type": "stream",
     "text": [
      "total 4484\r\n",
      "drwxrwxrwx 1 alex alex     512 Sep 16 20:27 .\r\n",
      "drwxrwxrwx 1 alex alex     512 Sep 16 20:19 ..\r\n",
      "-rwxrwxrwx 1 alex alex    6510 Sep 16 20:26 app.py\r\n",
      "-rwxrwxrwx 1 alex alex     134 Sep 16 20:31 columns.json\r\n",
      "-rwxrwxrwx 1 alex alex    6665 Sep 16 13:12 Deserialize and use.ipynb\r\n",
      "-rwxrwxrwx 1 alex alex     878 Sep 16 20:31 dtypes.pickle\r\n",
      "drwxrwxrwx 1 alex alex     512 Sep 16 20:27 .git\r\n",
      "-rwxrwxrwx 1 alex alex    1285 Sep  9 03:04 .gitignore\r\n",
      "drwxrwxrwx 1 alex alex     512 Sep 16 20:27 .idea\r\n",
      "drwxrwxrwx 1 alex alex     512 Sep 16 16:28 .ipynb_checkpoints\r\n",
      "-rwxrwxrwx 1 alex alex    1114 Sep  9 03:04 LICENSE\r\n",
      "drwxrwxrwx 1 alex alex     512 Sep  9 05:31 model\r\n",
      "-rwxrwxrwx 1 alex alex 4390159 Sep 16 20:31 pipeline.pickle\r\n",
      "-rwxrwxrwx 1 alex alex   12288 Sep 16 20:27 predictions.db\r\n",
      "-rwxrwxrwx 1 alex alex      25 Sep  9 03:04 Procfile\r\n",
      "drwxrwxrwx 1 alex alex     512 Sep 16 20:31 __pycache__\r\n",
      "-rwxrwxrwx 1 alex alex   29835 Sep  9 03:04 README.md\r\n",
      "-rwxrwxrwx 1 alex alex      90 Sep  9 03:04 requirements.txt\r\n",
      "-rwxrwxrwx 1 alex alex   10859 Sep 16 20:04 serialize2.ipynb\r\n",
      "-rwxrwxrwx 1 alex alex   61194 Sep  9 03:04 titanic.csv\r\n",
      "-rwxrwxrwx 1 alex alex   47120 Sep 16 16:20 Train and Serialize.ipynb\r\n",
      "-rwxrwxrwx 1 alex alex    3030 Sep 16 20:05 utils.py\r\n"
     ]
    }
   ],
   "source": [
    "!ls -la"
   ]
  }
 ],
 "metadata": {
  "kernelspec": {
   "display_name": "ldsa",
   "language": "python",
   "name": "shell"
  },
  "language_info": {
   "codemirror_mode": {
    "name": "ipython",
    "version": 3
   },
   "file_extension": ".py",
   "mimetype": "text/x-python",
   "name": "python",
   "nbconvert_exporter": "python",
   "pygments_lexer": "ipython3",
   "version": "3.6.6"
  }
 },
 "nbformat": 4,
 "nbformat_minor": 2
}
